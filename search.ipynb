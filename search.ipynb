{
 "cells": [
  {
   "cell_type": "markdown",
   "metadata": {},
   "source": [
    "# Search Algorithms\n",
    "\n",
    "Searching algorithms are perhaps some of the most important algorithms around, allowing for databasing, complex data structures and much more. Here are some implementations of some of the common ones."
   ]
  },
  {
   "cell_type": "code",
   "execution_count": 60,
   "metadata": {},
   "outputs": [],
   "source": [
    "import random\n",
    "from typing import List\n"
   ]
  },
  {
   "cell_type": "code",
   "execution_count": 61,
   "metadata": {},
   "outputs": [],
   "source": [
    "X = list(range(5000))\n",
    "random.shuffle(X)\n",
    "\n",
    "target = random.choice(X)\n"
   ]
  },
  {
   "cell_type": "markdown",
   "metadata": {},
   "source": [
    "<center>\n",
    "\n",
    "## Random Search\n",
    "\n",
    "Random search is one of the least efficient algorithms as it uses random iteration to grab at items and values.\n",
    "\n",
    "| Pros | Cons |\n",
    "|--|--|\n",
    "| Can find solutions (by chance) quickly | The run time is usually long |\n",
    "| Has a constant time complexity | The actual time is high |\n",
    "| The space complexity is constant and memory usage is small | |\n",
    "\n",
    "<br>\n",
    "\n",
    "$Time\\ Complexity = O(1)$\n",
    "\n",
    "$Space\\ Complexity = O(1)$\n",
    "\n",
    "</center>"
   ]
  },
  {
   "cell_type": "code",
   "execution_count": 62,
   "metadata": {},
   "outputs": [],
   "source": [
    "def random_search(X: List[float], target: float):\n",
    "    while True:\n",
    "        choice = random.choice(X)\n",
    "        if choice == target:\n",
    "            return choice\n"
   ]
  },
  {
   "cell_type": "markdown",
   "metadata": {},
   "source": [
    "<center>\n",
    "\n",
    "## Linear Search\n",
    "\n",
    "Linear search is a simple algorithm that is easy to understand, but it has a linear time complexity, so is not always ideal.\n",
    "\n",
    "| Pros | Cons |\n",
    "|--|--|\n",
    "| Easy to understand | The time complexity is constant |\n",
    "| The space complexity is constant | |\n",
    "\n",
    "<br>\n",
    "\n",
    "$Time\\ Complexity = O(n)$\n",
    "\n",
    "$Space\\ Complexity = O(1)$\n",
    "\n",
    "</center>"
   ]
  },
  {
   "cell_type": "code",
   "execution_count": 63,
   "metadata": {},
   "outputs": [],
   "source": [
    "def linear_search(X: List[float], target: float):\n",
    "    index = 0\n",
    "\n",
    "    for i in X:\n",
    "        if i == target:\n",
    "            return i\n",
    "\n",
    "        index += 1\n",
    "\n",
    "    return None  # There is a guard clause further back\n"
   ]
  },
  {
   "cell_type": "markdown",
   "metadata": {},
   "source": [
    "<center>\n",
    "\n",
    "## Binary Search\n",
    "\n",
    "Binary search is one of the more efficient algorithms shown here. It has a logarithmic time complexity and is widely used in lots of places.\n",
    "\n",
    "| Pros | Cons |\n",
    "|--|--|\n",
    "| Time complexity is logarithmic | It requires a sorted input |\n",
    "| The space complexity is constant | |\n",
    "\n",
    "<br>\n",
    "\n",
    "$Time\\ Complexity = O(log(n))$\n",
    "\n",
    "$Space\\ Complexity = O(1)$\n",
    "\n",
    "</center>"
   ]
  },
  {
   "cell_type": "code",
   "execution_count": 64,
   "metadata": {},
   "outputs": [],
   "source": [
    "def binary_search(X: List[float], target: float):\n",
    "    X = sorted(X)\n",
    "\n",
    "    while len(X) > 1:\n",
    "        mid = (len(X) - 1) // 2\n",
    "        if X[mid] == target:\n",
    "            return X[mid]\n",
    "\n",
    "        if X[mid] > target:\n",
    "            X = X[:mid]\n",
    "        else:\n",
    "            X = X[mid:]\n",
    "\n",
    "    return None\n"
   ]
  },
  {
   "cell_type": "code",
   "execution_count": 65,
   "metadata": {},
   "outputs": [
    {
     "name": "stdout",
     "output_type": "stream",
     "text": [
      "Random Search: 2.12 ms ± 316 µs per loop (mean ± std. dev. of 7 runs, 1000 loops each)\n",
      "Linear Search: 41.2 µs ± 1.95 µs per loop (mean ± std. dev. of 7 runs, 10000 loops each)\n",
      "Binary Search: 521 µs ± 22.4 µs per loop (mean ± std. dev. of 7 runs, 1000 loops each)\n"
     ]
    }
   ],
   "source": [
    "print(\"Random Search: \", end=\"\")\n",
    "%timeit random_search(X, target)\n",
    "\n",
    "print(\"Linear Search: \", end=\"\")\n",
    "%timeit linear_search(X, target)\n",
    "\n",
    "print(\"Binary Search: \", end=\"\")\n",
    "%timeit binary_search(X, target)"
   ]
  }
 ],
 "metadata": {
  "interpreter": {
   "hash": "4fbf6404002d0a4d14703db0d53d21c4aa8598221b5c3ecc9361646752151991"
  },
  "kernelspec": {
   "display_name": "Python 3.9.2 64-bit",
   "language": "python",
   "name": "python3"
  },
  "language_info": {
   "codemirror_mode": {
    "name": "ipython",
    "version": 3
   },
   "file_extension": ".py",
   "mimetype": "text/x-python",
   "name": "python",
   "nbconvert_exporter": "python",
   "pygments_lexer": "ipython3",
   "version": "3.9.2"
  },
  "orig_nbformat": 4
 },
 "nbformat": 4,
 "nbformat_minor": 2
}
