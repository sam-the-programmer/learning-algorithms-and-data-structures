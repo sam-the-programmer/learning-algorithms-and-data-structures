{
 "cells": [
  {
   "cell_type": "markdown",
   "metadata": {},
   "source": [
    "# Sort Algorithms\n",
    "\n",
    "These underly much of the world's codebase, used from binary search to databasing."
   ]
  },
  {
   "cell_type": "code",
   "execution_count": 10,
   "metadata": {},
   "outputs": [],
   "source": [
    "import random\n",
    "import copy\n"
   ]
  },
  {
   "cell_type": "code",
   "execution_count": 11,
   "metadata": {},
   "outputs": [],
   "source": [
    "X = list(range(1000))\n",
    "random.shuffle(X)"
   ]
  },
  {
   "cell_type": "markdown",
   "metadata": {},
   "source": [
    "<center>\n",
    "\n",
    "## Bubble Sort\n",
    "\n",
    "A recursive algorithm, this is one of the easiest sort algorithms to understand.\n",
    "\n",
    "| Pros | Cons |\n",
    "|--|--|\n",
    "| Constant space complexity | Time complexity is linear, and is increased by more jumbled-ness |\n",
    "\n",
    "<br>\n",
    "\n",
    "$Time\\ Complexity = O(n)$\n",
    "\n",
    "$Space\\ Complexity = O(1)$\n",
    "\n",
    "</center>"
   ]
  },
  {
   "cell_type": "code",
   "execution_count": 12,
   "metadata": {},
   "outputs": [],
   "source": [
    "def bubble_sort(X):\n",
    "\tto_sort = copy.copy(X)\n",
    "\tsort_needed = False\n",
    "\n",
    "\tfor i in range(len(to_sort)-1):\n",
    "\t\tif to_sort[i] > to_sort[i+1]:\n",
    "\t\t\tsort_needed = True\n",
    "\n",
    "\t\t\tto_sort[i], to_sort[i + 1] = to_sort[i + 1], to_sort[i]\n",
    "\n",
    "\tif sort_needed:\n",
    "\t\treturn bubble_sort(to_sort)\n",
    "\telse: return to_sort"
   ]
  },
  {
   "cell_type": "code",
   "execution_count": 14,
   "metadata": {},
   "outputs": [],
   "source": [
    "def insertion_sort(X):\n",
    "    for _, i in enumerate(X):\n",
    "        value = X[i]\n",
    "\n",
    "        j = i - 1\n",
    "        while j >= 0 and value < X[j] :\n",
    "                X[j+1] = X[j]\n",
    "                j -= 1\n",
    "\n",
    "        X[j+1] = value\n",
    "\n",
    "    return X"
   ]
  },
  {
   "cell_type": "code",
   "execution_count": 15,
   "metadata": {},
   "outputs": [
    {
     "name": "stdout",
     "output_type": "stream",
     "text": [
      "Bubble sort: 104 ms ± 1.41 ms per loop (mean ± std. dev. of 7 runs, 10 loops each)\n",
      "Insertion sort: 148 µs ± 5.24 µs per loop (mean ± std. dev. of 7 runs, 10000 loops each)\n"
     ]
    }
   ],
   "source": [
    "print(\"Bubble sort: \", end=\"\")\n",
    "%timeit bubble_sort(X)\n",
    "\n",
    "print(\"Insertion sort: \", end=\"\")\n",
    "%timeit insertion_sort(X)"
   ]
  }
 ],
 "metadata": {
  "interpreter": {
   "hash": "4fbf6404002d0a4d14703db0d53d21c4aa8598221b5c3ecc9361646752151991"
  },
  "kernelspec": {
   "display_name": "Python 3.9.2 64-bit",
   "language": "python",
   "name": "python3"
  },
  "language_info": {
   "codemirror_mode": {
    "name": "ipython",
    "version": 3
   },
   "file_extension": ".py",
   "mimetype": "text/x-python",
   "name": "python",
   "nbconvert_exporter": "python",
   "pygments_lexer": "ipython3",
   "version": "3.9.2"
  },
  "orig_nbformat": 4
 },
 "nbformat": 4,
 "nbformat_minor": 2
}
